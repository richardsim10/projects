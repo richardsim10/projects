{
 "cells": [
  {
   "cell_type": "markdown",
   "metadata": {
    "id": "Q91KqmCRu64D"
   },
   "source": [
    "# **Project - Convolutional Neural Networks: Street View Housing Number Digit Recognition**\n",
    "\n",
    "# Marks: 30\n",
    "\n",
    "Welcome to the project on classification using Convolutional Neural Networks. We will continue to work with the Street View Housing Numbers (SVHN) image dataset for this project.\n",
    "\n",
    "--------------\n",
    "### **Context:** \n",
    "--------------\n",
    "\n",
    "One of the most interesting tasks in deep learning is to recognize objects in natural scenes. The ability to process visual information using machine learning algorithms can be very useful as demonstrated in various applications.\n",
    "\n",
    "The SVHN dataset contains over 600,000 labeled digits cropped from street-level photos. It is one of the most popular image recognition datasets. It has been used in neural networks created by Google to improve map quality by automatically transcribing the address numbers from a patch of pixels. The transcribed number with a known street address helps pinpoint the location of the building it represents. \n",
    "\n",
    "----------------\n",
    "### **Objective:**\n",
    "----------------\n",
    "\n",
    "Build a CNN model that can identify the digits in the images.\n",
    "\n",
    "-------------\n",
    "### **Dataset**\n",
    "-------------\n",
    "Here, we will use a subset of the original data to save some computation time. The dataset is provided as a .h5 file. The basic preprocessing steps have been done."
   ]
  },
  {
   "cell_type": "markdown",
   "metadata": {
    "id": "8z2Z7-OAs8QG"
   },
   "source": [
    "## **Mount the drive**\n",
    "Let us start by mounting the drive and importing the necessary libraries."
   ]
  },
  {
   "cell_type": "code",
   "execution_count": 3,
   "metadata": {},
   "outputs": [
    {
     "name": "stdout",
     "output_type": "stream",
     "text": [
      "Collecting google\n",
      "  Using cached google-3.0.0-py2.py3-none-any.whl (45 kB)\n",
      "Requirement already satisfied: beautifulsoup4 in c:\\users\\richa\\anaconda3\\lib\\site-packages (from google) (4.10.0)\n",
      "Requirement already satisfied: soupsieve>1.2 in c:\\users\\richa\\anaconda3\\lib\\site-packages (from beautifulsoup4->google) (2.2.1)\n",
      "Installing collected packages: google\n",
      "Successfully installed google-3.0.0\n"
     ]
    }
   ],
   "source": [
    "!pip install google"
   ]
  },
  {
   "cell_type": "code",
   "execution_count": 3,
   "metadata": {
    "colab": {
     "base_uri": "https://localhost:8080/"
    },
    "executionInfo": {
     "elapsed": 1505,
     "status": "ok",
     "timestamp": 1646508142903,
     "user": {
      "displayName": "Richard Sim",
      "photoUrl": "https://lh3.googleusercontent.com/a/default-user=s64",
      "userId": "04602034311639518581"
     },
     "user_tz": 300
    },
    "id": "03lDyQUuef7z",
    "outputId": "94b0b255-4773-4936-8903-4978c31d9a6c"
   },
   "outputs": [
    {
     "ename": "ModuleNotFoundError",
     "evalue": "No module named 'google'",
     "output_type": "error",
     "traceback": [
      "\u001b[1;31m---------------------------------------------------------------------------\u001b[0m",
      "\u001b[1;31mModuleNotFoundError\u001b[0m                       Traceback (most recent call last)",
      "\u001b[1;32m~\\AppData\\Local\\Temp/ipykernel_8760/1408506528.py\u001b[0m in \u001b[0;36m<module>\u001b[1;34m\u001b[0m\n\u001b[1;32m----> 1\u001b[1;33m \u001b[1;32mfrom\u001b[0m \u001b[0mgoogle\u001b[0m\u001b[1;33m.\u001b[0m\u001b[0mcolab\u001b[0m \u001b[1;32mimport\u001b[0m \u001b[0mdrive\u001b[0m\u001b[1;33m\u001b[0m\u001b[1;33m\u001b[0m\u001b[0m\n\u001b[0m\u001b[0;32m      2\u001b[0m \u001b[0mdrive\u001b[0m\u001b[1;33m.\u001b[0m\u001b[0mmount\u001b[0m\u001b[1;33m(\u001b[0m\u001b[1;34m'/content/drive'\u001b[0m\u001b[1;33m)\u001b[0m\u001b[1;33m\u001b[0m\u001b[1;33m\u001b[0m\u001b[0m\n",
      "\u001b[1;31mModuleNotFoundError\u001b[0m: No module named 'google'"
     ]
    }
   ],
   "source": [
    "from google.colab import drive\n",
    "drive.mount('/content/drive')"
   ]
  },
  {
   "cell_type": "markdown",
   "metadata": {
    "id": "C8U3DUa3eNsT"
   },
   "source": [
    "## **Importing libraries**"
   ]
  },
  {
   "cell_type": "code",
   "execution_count": 6,
   "metadata": {
    "executionInfo": {
     "elapsed": 4,
     "status": "ok",
     "timestamp": 1646508142903,
     "user": {
      "displayName": "Richard Sim",
      "photoUrl": "https://lh3.googleusercontent.com/a/default-user=s64",
      "userId": "04602034311639518581"
     },
     "user_tz": 300
    },
    "id": "-dVzeuF3eQx1"
   },
   "outputs": [
    {
     "ename": "ModuleNotFoundError",
     "evalue": "No module named 'tensorflow'",
     "output_type": "error",
     "traceback": [
      "\u001b[1;31m---------------------------------------------------------------------------\u001b[0m",
      "\u001b[1;31mModuleNotFoundError\u001b[0m                       Traceback (most recent call last)",
      "\u001b[1;32m~\\AppData\\Local\\Temp/ipykernel_8760/442337316.py\u001b[0m in \u001b[0;36m<module>\u001b[1;34m\u001b[0m\n\u001b[0;32m      7\u001b[0m \u001b[1;32mfrom\u001b[0m \u001b[0msklearn\u001b[0m\u001b[1;33m.\u001b[0m\u001b[0mpreprocessing\u001b[0m \u001b[1;32mimport\u001b[0m \u001b[0mMinMaxScaler\u001b[0m\u001b[1;33m\u001b[0m\u001b[1;33m\u001b[0m\u001b[0m\n\u001b[0;32m      8\u001b[0m \u001b[1;33m\u001b[0m\u001b[0m\n\u001b[1;32m----> 9\u001b[1;33m \u001b[1;32mimport\u001b[0m \u001b[0mtensorflow\u001b[0m \u001b[1;32mas\u001b[0m \u001b[0mtf\u001b[0m\u001b[1;33m\u001b[0m\u001b[1;33m\u001b[0m\u001b[0m\n\u001b[0m\u001b[0;32m     10\u001b[0m \u001b[1;32mfrom\u001b[0m \u001b[0mtensorflow\u001b[0m\u001b[1;33m.\u001b[0m\u001b[0mkeras\u001b[0m\u001b[1;33m.\u001b[0m\u001b[0mmodels\u001b[0m \u001b[1;32mimport\u001b[0m \u001b[0mSequential\u001b[0m\u001b[1;33m\u001b[0m\u001b[1;33m\u001b[0m\u001b[0m\n\u001b[0;32m     11\u001b[0m \u001b[1;32mfrom\u001b[0m \u001b[0mtensorflow\u001b[0m\u001b[1;33m.\u001b[0m\u001b[0mkeras\u001b[0m\u001b[1;33m.\u001b[0m\u001b[0mlayers\u001b[0m \u001b[1;32mimport\u001b[0m \u001b[0mDense\u001b[0m\u001b[1;33m,\u001b[0m \u001b[0mConv2D\u001b[0m\u001b[1;33m,\u001b[0m \u001b[0mMaxPool2D\u001b[0m\u001b[1;33m,\u001b[0m \u001b[0mBatchNormalization\u001b[0m\u001b[1;33m,\u001b[0m \u001b[0mDropout\u001b[0m\u001b[1;33m,\u001b[0m \u001b[0mFlatten\u001b[0m\u001b[1;33m,\u001b[0m \u001b[0mLeakyReLU\u001b[0m\u001b[1;33m\u001b[0m\u001b[1;33m\u001b[0m\u001b[0m\n",
      "\u001b[1;31mModuleNotFoundError\u001b[0m: No module named 'tensorflow'"
     ]
    }
   ],
   "source": [
    "import numpy as np\n",
    "import pandas as pd\n",
    "import matplotlib.pyplot as plt\n",
    "import seaborn as sns\n",
    "\n",
    "from sklearn.model_selection import train_test_split\n",
    "from sklearn.preprocessing import MinMaxScaler\n",
    "\n",
    "import tensorflow as tf\n",
    "from tensorflow.keras.models import Sequential\n",
    "from tensorflow.keras.layers import Dense, Conv2D, MaxPool2D, BatchNormalization, Dropout, Flatten, LeakyReLU\n",
    "from tensorflow.keras.utils import to_categorical"
   ]
  },
  {
   "cell_type": "markdown",
   "metadata": {
    "id": "ucnevGLoyKf_"
   },
   "source": [
    "Let us check for the version of TensorFlow."
   ]
  },
  {
   "cell_type": "code",
   "execution_count": 32,
   "metadata": {
    "colab": {
     "base_uri": "https://localhost:8080/"
    },
    "executionInfo": {
     "elapsed": 4,
     "status": "ok",
     "timestamp": 1646508142904,
     "user": {
      "displayName": "Richard Sim",
      "photoUrl": "https://lh3.googleusercontent.com/a/default-user=s64",
      "userId": "04602034311639518581"
     },
     "user_tz": 300
    },
    "id": "W5as47YxyJVk",
    "outputId": "9e812194-6296-4654-da07-2322218c8942"
   },
   "outputs": [
    {
     "name": "stdout",
     "output_type": "stream",
     "text": [
      "2.8.0\n"
     ]
    }
   ],
   "source": [
    "print(tf.__version__)"
   ]
  },
  {
   "cell_type": "markdown",
   "metadata": {
    "id": "8lsux2ZwyTTR"
   },
   "source": [
    "## **Load the dataset**\n",
    "- Let us now load the dataset that is available as a .h5 file.\n",
    "- Split the data into train and the test dataset"
   ]
  },
  {
   "cell_type": "code",
   "execution_count": 33,
   "metadata": {
    "executionInfo": {
     "elapsed": 672,
     "status": "ok",
     "timestamp": 1646508143573,
     "user": {
      "displayName": "Richard Sim",
      "photoUrl": "https://lh3.googleusercontent.com/a/default-user=s64",
      "userId": "04602034311639518581"
     },
     "user_tz": 300
    },
    "id": "BApX9qgNsqV0",
    "scrolled": true
   },
   "outputs": [],
   "source": [
    "import h5py\n",
    "\n",
    "# Open the file as read only\n",
    "# User can make changes in the path as required\n",
    "h5f = h5py.File('/content/drive/MyDrive/SVHN_single_grey1.h5', 'r')\n",
    "\n",
    "# Load the training and the test set\n",
    "X_train = h5f['X_train'][:]\n",
    "y_train = h5f['y_train'][:]\n",
    "X_test = h5f['X_test'][:]\n",
    "y_test = h5f['y_test'][:]\n",
    "\n",
    "\n",
    "# Close this file\n",
    "h5f.close()"
   ]
  },
  {
   "cell_type": "markdown",
   "metadata": {
    "id": "hVe0CYpUgj7w"
   },
   "source": [
    "Let's check the number of images in the training and testing data."
   ]
  },
  {
   "cell_type": "code",
   "execution_count": 34,
   "metadata": {
    "colab": {
     "base_uri": "https://localhost:8080/"
    },
    "executionInfo": {
     "elapsed": 14,
     "status": "ok",
     "timestamp": 1646508143573,
     "user": {
      "displayName": "Richard Sim",
      "photoUrl": "https://lh3.googleusercontent.com/a/default-user=s64",
      "userId": "04602034311639518581"
     },
     "user_tz": 300
    },
    "id": "y3lwKpOefkpA",
    "outputId": "e8421ceb-9d87-46ea-94c4-48c7d7ba2143"
   },
   "outputs": [
    {
     "data": {
      "text/plain": [
       "(42000, 18000)"
      ]
     },
     "execution_count": 34,
     "metadata": {},
     "output_type": "execute_result"
    }
   ],
   "source": [
    "len(X_train), len(X_test)"
   ]
  },
  {
   "cell_type": "markdown",
   "metadata": {
    "id": "akTUOfLlgwoM"
   },
   "source": [
    "**Observations**\n",
    "- There are 42,000 images in the training data and 18,000 images in the testing data. "
   ]
  },
  {
   "cell_type": "markdown",
   "metadata": {
    "id": "kxODV6HKykuc"
   },
   "source": [
    "## **Visualizing images**\n",
    "- Use X_train to visualize the first 10 images\n",
    "- Use Y_train to print the first 10 labels"
   ]
  },
  {
   "cell_type": "markdown",
   "metadata": {
    "id": "Rn5IZYv-e2TC"
   },
   "source": [
    "#### **Question 1: Complete the below code to visualize the first 10 images from the training data (1 Mark)**"
   ]
  },
  {
   "cell_type": "code",
   "execution_count": 35,
   "metadata": {
    "colab": {
     "base_uri": "https://localhost:8080/",
     "height": 95
    },
    "executionInfo": {
     "elapsed": 12,
     "status": "ok",
     "timestamp": 1646508143573,
     "user": {
      "displayName": "Richard Sim",
      "photoUrl": "https://lh3.googleusercontent.com/a/default-user=s64",
      "userId": "04602034311639518581"
     },
     "user_tz": 300
    },
    "id": "Bvsc8ytHsqWD",
    "outputId": "34c1bcae-127d-4ffe-ce6f-e3d165248c8d"
   },
   "outputs": [
    {
     "data": {
      "image/png": "[encoded data removed]",
      "text/plain": [
       "<Figure size 720x72 with 10 Axes>"
      ]
     },
     "metadata": {
      "needs_background": "light"
     },
     "output_type": "display_data"
    },
    {
     "name": "stdout",
     "output_type": "stream",
     "text": [
      "label for each of the above image: [2 6 7 4 4 0 3 0 7 3]\n"
     ]
    }
   ],
   "source": [
    "# visualizing the first 10 images in the dataset and their labels\n",
    "plt.figure(figsize=(10, 1))\n",
    "\n",
    "for i in range(10):\n",
    "    plt.subplot(1, 10, i+1)\n",
    "    plt.imshow(X_train[i], cmap=\"gray\") # write the function to visualize images\n",
    "    plt.axis('off')\n",
    "\n",
    "plt.show()\n",
    "print('label for each of the above image: %s' % (y_train[0:10]))"
   ]
  },
  {
   "cell_type": "markdown",
   "metadata": {
    "id": "kzoyeXHOy80N"
   },
   "source": [
    "## **Data Preparation**\n",
    "\n",
    "- Print the first image in the train image and figure out the shape of the images\n",
    "- Reshape the train and the test dataset to make them fit the first convolutional operation that we will create later. Figure out the required shape\n",
    "- Normalize the train and the test dataset by dividing by 255\n",
    "- Print the new shapes of the train and the test set\n",
    "- One-hot encode the target variable"
   ]
  },
  {
   "cell_type": "code",
   "execution_count": 36,
   "metadata": {
    "colab": {
     "base_uri": "https://localhost:8080/"
    },
    "executionInfo": {
     "elapsed": 11,
     "status": "ok",
     "timestamp": 1646508143574,
     "user": {
      "displayName": "Richard Sim",
      "photoUrl": "https://lh3.googleusercontent.com/a/default-user=s64",
      "userId": "04602034311639518581"
     },
     "user_tz": 300
    },
    "id": "NqndzQXng9rL",
    "outputId": "bb8d63a9-74b6-44f5-a660-a4ea310efcb4"
   },
   "outputs": [
    {
     "name": "stdout",
     "output_type": "stream",
     "text": [
      "Shape: (32, 32)\n",
      "\n",
      "First image:\n",
      " [[ 33.0704  30.2601  26.852  ...  71.4471  58.2204  42.9939]\n",
      " [ 25.2283  25.5533  29.9765 ... 113.0209 103.3639  84.2949]\n",
      " [ 26.2775  22.6137  40.4763 ... 113.3028 121.775  115.4228]\n",
      " ...\n",
      " [ 28.5502  36.212   45.0801 ...  24.1359  25.0927  26.0603]\n",
      " [ 38.4352  26.4733  23.2717 ...  28.1094  29.4683  30.0661]\n",
      " [ 50.2984  26.0773  24.0389 ...  49.6682  50.853   53.0377]]\n"
     ]
    }
   ],
   "source": [
    "# Shape of the images and the first image\n",
    "\n",
    "print(\"Shape:\", X_train[0].shape)\n",
    "print()\n",
    "print(\"First image:\\n\", X_train[0])"
   ]
  },
  {
   "cell_type": "code",
   "execution_count": 37,
   "metadata": {
    "executionInfo": {
     "elapsed": 10,
     "status": "ok",
     "timestamp": 1646508143574,
     "user": {
      "displayName": "Richard Sim",
      "photoUrl": "https://lh3.googleusercontent.com/a/default-user=s64",
      "userId": "04602034311639518581"
     },
     "user_tz": 300
    },
    "id": "D9YPwf9ysqWU"
   },
   "outputs": [],
   "source": [
    "# Reshaping the dataset to flatten them. Remember that we always have to give a 4D array as input to CNNs\n",
    "\n",
    "X_train = X_train.reshape(X_train.shape[0], 32,32,1)\n",
    "X_test = X_test.reshape(X_test.shape[0], 32,32,1)"
   ]
  },
  {
   "cell_type": "code",
   "execution_count": 38,
   "metadata": {
    "executionInfo": {
     "elapsed": 10,
     "status": "ok",
     "timestamp": 1646508143574,
     "user": {
      "displayName": "Richard Sim",
      "photoUrl": "https://lh3.googleusercontent.com/a/default-user=s64",
      "userId": "04602034311639518581"
     },
     "user_tz": 300
    },
    "id": "q_yUUTp_mUzB"
   },
   "outputs": [],
   "source": [
    "# Normalize inputs from 0-255 to 0-1\n",
    "\n",
    "X_train = X_train / 255.0\n",
    "X_test = X_test / 255.0"
   ]
  },
  {
   "cell_type": "code",
   "execution_count": 39,
   "metadata": {
    "colab": {
     "base_uri": "https://localhost:8080/"
    },
    "executionInfo": {
     "elapsed": 331,
     "status": "ok",
     "timestamp": 1646508143896,
     "user": {
      "displayName": "Richard Sim",
      "photoUrl": "https://lh3.googleusercontent.com/a/default-user=s64",
      "userId": "04602034311639518581"
     },
     "user_tz": 300
    },
    "id": "t7FSqOpamWkH",
    "outputId": "21cc0dde-2912-4bf7-80b3-a7a39fd6f9c0"
   },
   "outputs": [
    {
     "name": "stdout",
     "output_type": "stream",
     "text": [
      "Training set: (42000, 32, 32, 1) (42000,)\n",
      "Test set: (18000, 32, 32, 1) (18000,)\n"
     ]
    }
   ],
   "source": [
    "# New shape \n",
    "\n",
    "print('Training set:', X_train.shape, y_train.shape)\n",
    "print('Test set:', X_test.shape, y_test.shape)"
   ]
  },
  {
   "cell_type": "markdown",
   "metadata": {
    "id": "YP92jacue2TE"
   },
   "source": [
    "#### **Question 2: One-hot encode the labels in the target variable y_train and y_test (2 Marks)**"
   ]
  },
  {
   "cell_type": "code",
   "execution_count": 40,
   "metadata": {
    "colab": {
     "base_uri": "https://localhost:8080/"
    },
    "executionInfo": {
     "elapsed": 10,
     "status": "ok",
     "timestamp": 1646508143897,
     "user": {
      "displayName": "Richard Sim",
      "photoUrl": "https://lh3.googleusercontent.com/a/default-user=s64",
      "userId": "04602034311639518581"
     },
     "user_tz": 300
    },
    "id": "zL0lYER4sqWw",
    "outputId": "86fa9485-5404-4491-b5bc-cd22ba071f13"
   },
   "outputs": [
    {
     "data": {
      "text/plain": [
       "array([[0., 1., 0., ..., 0., 0., 0.],\n",
       "       [0., 0., 0., ..., 1., 0., 0.],\n",
       "       [0., 0., 1., ..., 0., 0., 0.],\n",
       "       ...,\n",
       "       [0., 0., 0., ..., 1., 0., 0.],\n",
       "       [0., 0., 0., ..., 0., 0., 1.],\n",
       "       [0., 0., 1., ..., 0., 0., 0.]], dtype=float32)"
      ]
     },
     "execution_count": 40,
     "metadata": {},
     "output_type": "execute_result"
    }
   ],
   "source": [
    "#Write the function and appropriate variable name to one-hot encode the output\n",
    "\n",
    "y_train = to_categorical(y_train)\n",
    "y_test = to_categorical(y_test)\n",
    "\n",
    "#test labels\n",
    "y_test"
   ]
  },
  {
   "cell_type": "markdown",
   "metadata": {
    "id": "ViqPOTquCF76"
   },
   "source": [
    "- Notice that each entry of y_test is a one-hot encoded vector instead of a single label."
   ]
  },
  {
   "cell_type": "markdown",
   "metadata": {
    "id": "yH-gVrzuByNA"
   },
   "source": [
    "## **Model Building**\n",
    "\n",
    "Now, we have done data preprocessing, let's build a CNN model."
   ]
  },
  {
   "cell_type": "code",
   "execution_count": 41,
   "metadata": {
    "executionInfo": {
     "elapsed": 9,
     "status": "ok",
     "timestamp": 1646508143897,
     "user": {
      "displayName": "Richard Sim",
      "photoUrl": "https://lh3.googleusercontent.com/a/default-user=s64",
      "userId": "04602034311639518581"
     },
     "user_tz": 300
    },
    "id": "eaGr-3Noe2TF"
   },
   "outputs": [],
   "source": [
    "#Fixing the seed for random number generators\n",
    "np.random.seed(42)\n",
    "import random\n",
    "random.seed(42)\n",
    "tf.random.set_seed(42)"
   ]
  },
  {
   "cell_type": "markdown",
   "metadata": {
    "id": "UJDUoaEj1d6e"
   },
   "source": [
    "### **Model Architecture**\n",
    "- Write a function that returns a sequential model with the following architecture\n",
    " - First Convolutional layer with **16 filters and kernel size of 3x3**. Use the **'same' padding** and provide an **apt input shape**\n",
    " - Add a **LeakyRelu layer** with the **slope equal to 0.1**\n",
    " - Second Convolutional layer with **32 filters and kernel size of 3x3 with 'same' padding**\n",
    " - Another **LeakyRelu** with the **slope equal to 0.1**\n",
    " - A **max-pooling layer** with a **pool size of 2x2**\n",
    " - **Flatten** the output from the previous layer\n",
    " - Add a **dense layer with 32 nodes**\n",
    " - Add a **LeakyRelu layer with slope equal to 0.1**\n",
    " - Add the final **output layer with nodes equal to the number of classes** and **softmax activation**\n",
    " - Compile the model with the **categorical_crossentropy loss, adam optimizers (learning_rate = 0.001), and accuracy metric**. Do not fit the model here, just return the compiled model\n",
    "- Call the function and store the model in a new variable\n",
    "- Print the summary of the model.\n",
    "- Fit the model on the train data with a **validation split of 0.2, batch size = 32, verbose = 1, and 20 epochs**. Store the model building history to use later for visualization."
   ]
  },
  {
   "cell_type": "markdown",
   "metadata": {
    "id": "Uw8pZcNwe2TG"
   },
   "source": [
    "#### **Question 3: Build and train a CNN model as per the above mentioned architecture (10 Marks)**"
   ]
  },
  {
   "cell_type": "code",
   "execution_count": 42,
   "metadata": {
    "executionInfo": {
     "elapsed": 9,
     "status": "ok",
     "timestamp": 1646508143897,
     "user": {
      "displayName": "Richard Sim",
      "photoUrl": "https://lh3.googleusercontent.com/a/default-user=s64",
      "userId": "04602034311639518581"
     },
     "user_tz": 300
    },
    "id": "Cmi81Gr5sqW-"
   },
   "outputs": [],
   "source": [
    "#Importing losses and optimizers modules\n",
    "from tensorflow.keras import losses\n",
    "from tensorflow.keras import optimizers\n",
    "\n",
    "#Define the function\n",
    "def cnn_model_1():\n",
    "    model = Sequential()\n",
    "\n",
    "    #Add layers as per the architecture mentioned above in the same sequence\n",
    "    model.add(Conv2D(filters=16, kernel_size=(3, 3), padding='same', input_shape=(32,32,1)))\n",
    "    model.add(LeakyReLU(alpha=0.1))\n",
    "    model.add(Conv2D(filters=32, kernel_size=(3, 3), padding='same'))\n",
    "    model.add(LeakyReLU(alpha=0.1))\n",
    "    model.add(MaxPool2D(pool_size=(2, 2)))\n",
    "    model.add(Flatten())\n",
    "    model.add(Dense(32))\n",
    "    model.add(LeakyReLU(alpha=0.1))\n",
    "    model.add(Dense(10, activation='softmax'))\n",
    "    \n",
    "    #declare adam optimizer with learning rate of 0.001 \n",
    "    adam = optimizers.Adam(learning_rate=0.001)\n",
    "    \n",
    "    #compile the model\n",
    "    model.compile(optimizer=adam, loss=\"categorical_crossentropy\", metrics=[\"accuracy\"])\n",
    "    \n",
    "    return model"
   ]
  },
  {
   "cell_type": "code",
   "execution_count": 43,
   "metadata": {
    "executionInfo": {
     "elapsed": 8,
     "status": "ok",
     "timestamp": 1646508143897,
     "user": {
      "displayName": "Richard Sim",
      "photoUrl": "https://lh3.googleusercontent.com/a/default-user=s64",
      "userId": "04602034311639518581"
     },
     "user_tz": 300
    },
    "id": "bGCUI_xsImnH"
   },
   "outputs": [],
   "source": [
    "#Build the model\n",
    "model_1 = cnn_model_1()"
   ]
  },
  {
   "cell_type": "code",
   "execution_count": 44,
   "metadata": {
    "colab": {
     "base_uri": "https://localhost:8080/"
    },
    "executionInfo": {
     "elapsed": 8,
     "status": "ok",
     "timestamp": 1646508143897,
     "user": {
      "displayName": "Richard Sim",
      "photoUrl": "https://lh3.googleusercontent.com/a/default-user=s64",
      "userId": "04602034311639518581"
     },
     "user_tz": 300
    },
    "id": "ckJsLdmdQadZ",
    "outputId": "9fced815-5453-4776-b3b8-38f5601ce8e0"
   },
   "outputs": [
    {
     "name": "stdout",
     "output_type": "stream",
     "text": [
      "Model: \"sequential_1\"\n",
      "_________________________________________________________________\n",
      " Layer (type)                Output Shape              Param #   \n",
      "=================================================================\n",
      " conv2d_4 (Conv2D)           (None, 32, 32, 16)        160       \n",
      "                                                                 \n",
      " leaky_re_lu_5 (LeakyReLU)   (None, 32, 32, 16)        0         \n",
      "                                                                 \n",
      " conv2d_5 (Conv2D)           (None, 32, 32, 32)        4640      \n",
      "                                                                 \n",
      " leaky_re_lu_6 (LeakyReLU)   (None, 32, 32, 32)        0         \n",
      "                                                                 \n",
      " max_pooling2d_2 (MaxPooling  (None, 16, 16, 32)       0         \n",
      " 2D)                                                             \n",
      "                                                                 \n",
      " flatten_1 (Flatten)         (None, 8192)              0         \n",
      "                                                                 \n",
      " dense_2 (Dense)             (None, 32)                262176    \n",
      "                                                                 \n",
      " leaky_re_lu_7 (LeakyReLU)   (None, 32)                0         \n",
      "                                                                 \n",
      " dense_3 (Dense)             (None, 10)                330       \n",
      "                                                                 \n",
      "=================================================================\n",
      "Total params: 267,306\n",
      "Trainable params: 267,306\n",
      "Non-trainable params: 0\n",
      "_________________________________________________________________\n"
     ]
    }
   ],
   "source": [
    "#Print the model summary\n",
    "model_1.summary()"
   ]
  },
  {
   "cell_type": "code",
   "execution_count": 45,
   "metadata": {
    "colab": {
     "base_uri": "https://localhost:8080/"
    },
    "executionInfo": {
     "elapsed": 202794,
     "status": "ok",
     "timestamp": 1646508346687,
     "user": {
      "displayName": "Richard Sim",
      "photoUrl": "https://lh3.googleusercontent.com/a/default-user=s64",
      "userId": "04602034311639518581"
     },
     "user_tz": 300
    },
    "id": "3Fy3Dif_zcCk",
    "outputId": "aee17143-ce53-4d0a-8318-47402dc02419"
   },
   "outputs": [
    {
     "name": "stdout",
     "output_type": "stream",
     "text": [
      "Epoch 1/20\n",
      "1050/1050 [==============================] - 9s 8ms/step - loss: 1.2028 - accuracy: 0.5994 - val_loss: 0.6510 - val_accuracy: 0.8111\n",
      "Epoch 2/20\n",
      "1050/1050 [==============================] - 8s 8ms/step - loss: 0.5395 - accuracy: 0.8450 - val_loss: 0.4984 - val_accuracy: 0.8600\n",
      "Epoch 3/20\n",
      "1050/1050 [==============================] - 8s 8ms/step - loss: 0.4400 - accuracy: 0.8712 - val_loss: 0.4956 - val_accuracy: 0.8624\n",
      "Epoch 4/20\n",
      "1050/1050 [==============================] - 8s 8ms/step - loss: 0.3827 - accuracy: 0.8892 - val_loss: 0.4524 - val_accuracy: 0.8767\n",
      "Epoch 5/20\n",
      "1050/1050 [==============================] - 8s 8ms/step - loss: 0.3388 - accuracy: 0.8997 - val_loss: 0.4754 - val_accuracy: 0.8686\n",
      "Epoch 6/20\n",
      "1050/1050 [==============================] - 8s 8ms/step - loss: 0.2992 - accuracy: 0.9102 - val_loss: 0.4647 - val_accuracy: 0.8733\n",
      "Epoch 7/20\n",
      "1050/1050 [==============================] - 8s 8ms/step - loss: 0.2711 - accuracy: 0.9183 - val_loss: 0.4500 - val_accuracy: 0.8815\n",
      "Epoch 8/20\n",
      "1050/1050 [==============================] - 8s 8ms/step - loss: 0.2406 - accuracy: 0.9263 - val_loss: 0.4771 - val_accuracy: 0.8740\n",
      "Epoch 9/20\n",
      "1050/1050 [==============================] - 8s 8ms/step - loss: 0.2201 - accuracy: 0.9336 - val_loss: 0.5122 - val_accuracy: 0.8735\n",
      "Epoch 10/20\n",
      "1050/1050 [==============================] - 8s 8ms/step - loss: 0.1997 - accuracy: 0.9386 - val_loss: 0.5034 - val_accuracy: 0.8763\n",
      "Epoch 11/20\n",
      "1050/1050 [==============================] - 8s 8ms/step - loss: 0.1778 - accuracy: 0.9463 - val_loss: 0.5373 - val_accuracy: 0.8758\n",
      "Epoch 12/20\n",
      "1050/1050 [==============================] - 8s 8ms/step - loss: 0.1636 - accuracy: 0.9483 - val_loss: 0.5700 - val_accuracy: 0.8717\n",
      "Epoch 13/20\n",
      "1050/1050 [==============================] - 8s 8ms/step - loss: 0.1438 - accuracy: 0.9547 - val_loss: 0.6206 - val_accuracy: 0.8582\n",
      "Epoch 14/20\n",
      "1050/1050 [==============================] - 8s 8ms/step - loss: 0.1315 - accuracy: 0.9588 - val_loss: 0.6285 - val_accuracy: 0.8657\n",
      "Epoch 15/20\n",
      "1050/1050 [==============================] - 8s 8ms/step - loss: 0.1198 - accuracy: 0.9626 - val_loss: 0.6714 - val_accuracy: 0.8695\n",
      "Epoch 16/20\n",
      "1050/1050 [==============================] - 8s 8ms/step - loss: 0.1088 - accuracy: 0.9647 - val_loss: 0.6739 - val_accuracy: 0.8717\n",
      "Epoch 17/20\n",
      "1050/1050 [==============================] - 8s 8ms/step - loss: 0.0977 - accuracy: 0.9689 - val_loss: 0.7188 - val_accuracy: 0.8671\n",
      "Epoch 18/20\n",
      "1050/1050 [==============================] - 8s 7ms/step - loss: 0.0917 - accuracy: 0.9707 - val_loss: 0.7730 - val_accuracy: 0.8665\n",
      "Epoch 19/20\n",
      "1050/1050 [==============================] - 8s 8ms/step - loss: 0.0833 - accuracy: 0.9731 - val_loss: 0.7834 - val_accuracy: 0.8688\n",
      "Epoch 20/20\n",
      "1050/1050 [==============================] - 8s 8ms/step - loss: 0.0812 - accuracy: 0.9732 - val_loss: 0.8147 - val_accuracy: 0.8677\n"
     ]
    }
   ],
   "source": [
    "# Fit the model\n",
    "history_model_1 = model_1.fit(X_train, y_train, validation_split=0.2, verbose = 1, batch_size=32, epochs = 20)"
   ]
  },
  {
   "cell_type": "markdown",
   "metadata": {
    "id": "tKOckG-KPyLg"
   },
   "source": [
    "### **Plotting the validation and training accuracies**"
   ]
  },
  {
   "cell_type": "markdown",
   "metadata": {
    "id": "sVyQ9Gpge2TI"
   },
   "source": [
    "#### **Question 4: Write your observations on the below plot (2 Marks)**"
   ]
  },
  {
   "cell_type": "code",
   "execution_count": 46,
   "metadata": {
    "colab": {
     "base_uri": "https://localhost:8080/",
     "height": 497
    },
    "executionInfo": {
     "elapsed": 25,
     "status": "ok",
     "timestamp": 1646508346688,
     "user": {
      "displayName": "Richard Sim",
      "photoUrl": "https://lh3.googleusercontent.com/a/default-user=s64",
      "userId": "04602034311639518581"
     },
     "user_tz": 300
    },
    "id": "lt77zgGMP4yw",
    "outputId": "fb53a9a2-6b3d-46b0-90d9-57fea5a40e33"
   },
   "outputs": [
    {
     "data": {
      "image/png": "[encoded data removed]",
      "text/plain": [
       "<Figure size 576x576 with 1 Axes>"
      ]
     },
     "metadata": {
      "needs_background": "light"
     },
     "output_type": "display_data"
    }
   ],
   "source": [
    "# plotting the accuracies\n",
    "\n",
    "dict_hist = history_model_1.history\n",
    "list_ep = [i for i in range(1,21)]\n",
    "\n",
    "plt.figure(figsize = (8,8))\n",
    "plt.plot(list_ep,dict_hist['accuracy'],ls = '--', label = 'accuracy')\n",
    "plt.plot(list_ep,dict_hist['val_accuracy'],ls = '--', label = 'val_accuracy')\n",
    "plt.ylabel('Accuracy')\n",
    "plt.xlabel('Epochs')\n",
    "plt.legend()\n",
    "plt.show()"
   ]
  },
  {
   "cell_type": "markdown",
   "metadata": {
    "id": "pGBbQpLONX7k"
   },
   "source": [
    "**Observations:The accuracy rate is very high up until epoch=2.5, then it slows down but keeps increasing in what almost seems like a logarithmic shape. The validation accuracy is constant at about 0.85. The accuracy and validation accuracy are the same when the rate of accuracy changes, i.e. at epoch=2.5.**"
   ]
  },
  {
   "cell_type": "markdown",
   "metadata": {
    "id": "z0qgLMBZm5-K"
   },
   "source": [
    "Let's build another model and see if we can get a better model with generalized performance.\n",
    "\n",
    "First, we need to clear the previous model's history from the keras backend. Also, let's fix the seed again after clearing the backend."
   ]
  },
  {
   "cell_type": "code",
   "execution_count": 47,
   "metadata": {
    "executionInfo": {
     "elapsed": 14,
     "status": "ok",
     "timestamp": 1646508346688,
     "user": {
      "displayName": "Richard Sim",
      "photoUrl": "https://lh3.googleusercontent.com/a/default-user=s64",
      "userId": "04602034311639518581"
     },
     "user_tz": 300
    },
    "id": "y98BpLxsok_H"
   },
   "outputs": [],
   "source": [
    "#Clearing backend\n",
    "from tensorflow.keras import backend\n",
    "backend.clear_session()"
   ]
  },
  {
   "cell_type": "code",
   "execution_count": 48,
   "metadata": {
    "executionInfo": {
     "elapsed": 511,
     "status": "ok",
     "timestamp": 1646508347186,
     "user": {
      "displayName": "Richard Sim",
      "photoUrl": "https://lh3.googleusercontent.com/a/default-user=s64",
      "userId": "04602034311639518581"
     },
     "user_tz": 300
    },
    "id": "HbKi93HTolGW"
   },
   "outputs": [],
   "source": [
    "#Fixing the seed for random number generators\n",
    "np.random.seed(42)\n",
    "import random\n",
    "random.seed(42)\n",
    "tf.random.set_seed(42)"
   ]
  },
  {
   "cell_type": "markdown",
   "metadata": {
    "id": "lT6o3TIKuCtk"
   },
   "source": [
    "### **Second Model Architecture**\n",
    "- Write a function that returns a sequential model with the following architecture\n",
    " - First Convolutional layer with **16 filters and kernel size of 3x3**. Use the **'same' padding** and provide an **apt input shape**\n",
    " - Add a **LeakyRelu layer** with the **slope equal to 0.1**\n",
    " - Second Convolutional layer with **32 filters and kernel size of 3x3 with 'same' padding**\n",
    " - Add **LeakyRelu** with the **slope equal to 0.1**\n",
    " - Add a **max-pooling layer** with a **pool size of 2x2**\n",
    " - Add a **BatchNormalization layer**\n",
    " - Third Convolutional layer with **32 filters and kernel size of 3x3 with 'same' padding**\n",
    " - Add a **LeakyRelu layer with slope equal to 0.1**\n",
    " - Fourth Convolutional layer **64 filters and kernel size of 3x3 with 'same' padding** \n",
    " - Add a **LeakyRelu layer with slope equal to 0.1**\n",
    " - Add a **max-pooling layer** with a **pool size of 2x2**\n",
    " - Add a **BatchNormalization layer**\n",
    " - **Flatten** the output from the previous layer\n",
    " - Add a **dense layer with 32 nodes**\n",
    " - Add a **LeakyRelu layer with slope equal to 0.1**\n",
    " - Add a **dropout layer with rate equal to 0.5**\n",
    " - Add the final **output layer with nodes equal to the number of classes** and **softmax activation**\n",
    " - Compile the model with the **categorical_crossentropy loss, adam optimizers (learning_rate = 0.001), and accuracy metric**. Do not fit the model here, just return the compiled model\n",
    "- Call the function and store the model in a new variable\n",
    "- Print the summary of the model.\n",
    "- Fit the model on the train data with a **validation split of 0.2, batch size = 128, verbose = 1, and 30 epochs**. Store the model building history to use later for visualization."
   ]
  },
  {
   "cell_type": "markdown",
   "metadata": {
    "id": "Sr-bwBT2e2TJ"
   },
   "source": [
    "#### **Question 5: Build and train the second CNN model as per the above mentioned architecture (10 Marks)**"
   ]
  },
  {
   "cell_type": "code",
   "execution_count": 49,
   "metadata": {
    "executionInfo": {
     "elapsed": 9,
     "status": "ok",
     "timestamp": 1646508347186,
     "user": {
      "displayName": "Richard Sim",
      "photoUrl": "https://lh3.googleusercontent.com/a/default-user=s64",
      "userId": "04602034311639518581"
     },
     "user_tz": 300
    },
    "id": "EEPYLFIPnSDP"
   },
   "outputs": [],
   "source": [
    "#Define the function\n",
    "def cnn_model_2():\n",
    "    model = Sequential() \n",
    "    #Add layers as per the architecture mentioned above in the same sequence\n",
    "    model.add(Conv2D(filters=16, kernel_size=(3, 3), padding='same', input_shape=(32,32,1)))\n",
    "    model.add(LeakyReLU(alpha=0.1))\n",
    "    model.add(Conv2D(filters=32, kernel_size=(3, 3), padding='same'))\n",
    "    model.add(LeakyReLU(alpha=0.1))\n",
    "    model.add(MaxPool2D(pool_size=(2, 2)))\n",
    "    model.add(BatchNormalization())\n",
    "    model.add(Conv2D(filters=32, kernel_size=(3, 3), padding='same'))\n",
    "    model.add(LeakyReLU(alpha=0.1))\n",
    "    model.add(Conv2D(filters=64, kernel_size=(3, 3), padding='same'))\n",
    "    model.add(LeakyReLU(alpha=0.1))\n",
    "    model.add(MaxPool2D(pool_size=(2, 2)))\n",
    "    model.add(BatchNormalization())\n",
    "    model.add(Flatten())\n",
    "    model.add(Dense(32))\n",
    "    model.add(LeakyReLU(alpha=0.1))\n",
    "    model.add(Dropout(0.5))\n",
    "    model.add(Dense(10, activation='softmax'))\n",
    "    \n",
    "    #declare adam optimizer with learning rate of 0.001 \n",
    "    adam = optimizers.Adam(learning_rate=0.001)\n",
    "    \n",
    "    #compile the model\n",
    "    model.compile(optimizer=adam, loss=\"categorical_crossentropy\", metrics=[\"accuracy\"])\n",
    "    \n",
    "    return model"
   ]
  },
  {
   "cell_type": "code",
   "execution_count": 50,
   "metadata": {
    "executionInfo": {
     "elapsed": 9,
     "status": "ok",
     "timestamp": 1646508347187,
     "user": {
      "displayName": "Richard Sim",
      "photoUrl": "https://lh3.googleusercontent.com/a/default-user=s64",
      "userId": "04602034311639518581"
     },
     "user_tz": 300
    },
    "id": "AKjDY4plnSFl"
   },
   "outputs": [],
   "source": [
    "# Build the model\n",
    "model_2 = cnn_model_2()"
   ]
  },
  {
   "cell_type": "code",
   "execution_count": 51,
   "metadata": {
    "colab": {
     "base_uri": "https://localhost:8080/"
    },
    "executionInfo": {
     "elapsed": 8,
     "status": "ok",
     "timestamp": 1646508347187,
     "user": {
      "displayName": "Richard Sim",
      "photoUrl": "https://lh3.googleusercontent.com/a/default-user=s64",
      "userId": "04602034311639518581"
     },
     "user_tz": 300
    },
    "id": "gz_6SVrU2swZ",
    "outputId": "c18df2fc-66b5-487f-eb65-df4bacfa04f6"
   },
   "outputs": [
    {
     "name": "stdout",
     "output_type": "stream",
     "text": [
      "Model: \"sequential\"\n",
      "_________________________________________________________________\n",
      " Layer (type)                Output Shape              Param #   \n",
      "=================================================================\n",
      " conv2d (Conv2D)             (None, 32, 32, 16)        160       \n",
      "                                                                 \n",
      " leaky_re_lu (LeakyReLU)     (None, 32, 32, 16)        0         \n",
      "                                                                 \n",
      " conv2d_1 (Conv2D)           (None, 32, 32, 32)        4640      \n",
      "                                                                 \n",
      " leaky_re_lu_1 (LeakyReLU)   (None, 32, 32, 32)        0         \n",
      "                                                                 \n",
      " max_pooling2d (MaxPooling2D  (None, 16, 16, 32)       0         \n",
      " )                                                               \n",
      "                                                                 \n",
      " batch_normalization (BatchN  (None, 16, 16, 32)       128       \n",
      " ormalization)                                                   \n",
      "                                                                 \n",
      " conv2d_2 (Conv2D)           (None, 16, 16, 32)        9248      \n",
      "                                                                 \n",
      " leaky_re_lu_2 (LeakyReLU)   (None, 16, 16, 32)        0         \n",
      "                                                                 \n",
      " conv2d_3 (Conv2D)           (None, 16, 16, 64)        18496     \n",
      "                                                                 \n",
      " leaky_re_lu_3 (LeakyReLU)   (None, 16, 16, 64)        0         \n",
      "                                                                 \n",
      " max_pooling2d_1 (MaxPooling  (None, 8, 8, 64)         0         \n",
      " 2D)                                                             \n",
      "                                                                 \n",
      " batch_normalization_1 (Batc  (None, 8, 8, 64)         256       \n",
      " hNormalization)                                                 \n",
      "                                                                 \n",
      " flatten (Flatten)           (None, 4096)              0         \n",
      "                                                                 \n",
      " dense (Dense)               (None, 32)                131104    \n",
      "                                                                 \n",
      " leaky_re_lu_4 (LeakyReLU)   (None, 32)                0         \n",
      "                                                                 \n",
      " dropout (Dropout)           (None, 32)                0         \n",
      "                                                                 \n",
      " dense_1 (Dense)             (None, 10)                330       \n",
      "                                                                 \n",
      "=================================================================\n",
      "Total params: 164,362\n",
      "Trainable params: 164,170\n",
      "Non-trainable params: 192\n",
      "_________________________________________________________________\n"
     ]
    }
   ],
   "source": [
    "#Print the summary\n",
    "model_2.summary()"
   ]
  },
  {
   "cell_type": "code",
   "execution_count": 52,
   "metadata": {
    "colab": {
     "base_uri": "https://localhost:8080/"
    },
    "executionInfo": {
     "elapsed": 203085,
     "status": "ok",
     "timestamp": 1646508550269,
     "user": {
      "displayName": "Richard Sim",
      "photoUrl": "https://lh3.googleusercontent.com/a/default-user=s64",
      "userId": "04602034311639518581"
     },
     "user_tz": 300
    },
    "id": "IQ0Sc4R-y-uu",
    "outputId": "b993a2cc-0287-44e9-ba4e-92357bf4f97e"
   },
   "outputs": [
    {
     "name": "stdout",
     "output_type": "stream",
     "text": [
      "Epoch 1/30\n",
      "263/263 [==============================] - 7s 22ms/step - loss: 1.4663 - accuracy: 0.5013 - val_loss: 2.3818 - val_accuracy: 0.2069\n",
      "Epoch 2/30\n",
      "263/263 [==============================] - 6s 21ms/step - loss: 0.6852 - accuracy: 0.7876 - val_loss: 0.6416 - val_accuracy: 0.8206\n",
      "Epoch 3/30\n",
      "263/263 [==============================] - 6s 21ms/step - loss: 0.5570 - accuracy: 0.8282 - val_loss: 0.4699 - val_accuracy: 0.8631\n",
      "Epoch 4/30\n",
      "263/263 [==============================] - 5s 21ms/step - loss: 0.4915 - accuracy: 0.8510 - val_loss: 0.4861 - val_accuracy: 0.8545\n",
      "Epoch 5/30\n",
      "263/263 [==============================] - 6s 21ms/step - loss: 0.4460 - accuracy: 0.8656 - val_loss: 0.4388 - val_accuracy: 0.8793\n",
      "Epoch 6/30\n",
      "263/263 [==============================] - 6s 21ms/step - loss: 0.4099 - accuracy: 0.8744 - val_loss: 0.4539 - val_accuracy: 0.8663\n",
      "Epoch 7/30\n",
      "263/263 [==============================] - 5s 21ms/step - loss: 0.3808 - accuracy: 0.8831 - val_loss: 0.4218 - val_accuracy: 0.8823\n",
      "Epoch 8/30\n",
      "263/263 [==============================] - 6s 21ms/step - loss: 0.3517 - accuracy: 0.8893 - val_loss: 0.4122 - val_accuracy: 0.8846\n",
      "Epoch 9/30\n",
      "263/263 [==============================] - 5s 21ms/step - loss: 0.3297 - accuracy: 0.8982 - val_loss: 0.3642 - val_accuracy: 0.8982\n",
      "Epoch 10/30\n",
      "263/263 [==============================] - 5s 21ms/step - loss: 0.3191 - accuracy: 0.8994 - val_loss: 0.3576 - val_accuracy: 0.9025\n",
      "Epoch 11/30\n",
      "263/263 [==============================] - 6s 21ms/step - loss: 0.2948 - accuracy: 0.9058 - val_loss: 0.4177 - val_accuracy: 0.8895\n",
      "Epoch 12/30\n",
      "263/263 [==============================] - 5s 21ms/step - loss: 0.2784 - accuracy: 0.9115 - val_loss: 0.3843 - val_accuracy: 0.9074\n",
      "Epoch 13/30\n",
      "263/263 [==============================] - 6s 21ms/step - loss: 0.2693 - accuracy: 0.9140 - val_loss: 0.3983 - val_accuracy: 0.9002\n",
      "Epoch 14/30\n",
      "263/263 [==============================] - 5s 21ms/step - loss: 0.2582 - accuracy: 0.9181 - val_loss: 0.4283 - val_accuracy: 0.8964\n",
      "Epoch 15/30\n",
      "263/263 [==============================] - 5s 21ms/step - loss: 0.2517 - accuracy: 0.9205 - val_loss: 0.3875 - val_accuracy: 0.9023\n",
      "Epoch 16/30\n",
      "263/263 [==============================] - 5s 21ms/step - loss: 0.2375 - accuracy: 0.9242 - val_loss: 0.4072 - val_accuracy: 0.9062\n",
      "Epoch 17/30\n",
      "263/263 [==============================] - 6s 21ms/step - loss: 0.2282 - accuracy: 0.9266 - val_loss: 0.4334 - val_accuracy: 0.8921\n",
      "Epoch 18/30\n",
      "263/263 [==============================] - 6s 21ms/step - loss: 0.2149 - accuracy: 0.9319 - val_loss: 0.3937 - val_accuracy: 0.9044\n",
      "Epoch 19/30\n",
      "263/263 [==============================] - 5s 21ms/step - loss: 0.2205 - accuracy: 0.9278 - val_loss: 0.3760 - val_accuracy: 0.9118\n",
      "Epoch 20/30\n",
      "263/263 [==============================] - 5s 21ms/step - loss: 0.2055 - accuracy: 0.9332 - val_loss: 0.4335 - val_accuracy: 0.9026\n",
      "Epoch 21/30\n",
      "263/263 [==============================] - 5s 21ms/step - loss: 0.1989 - accuracy: 0.9342 - val_loss: 0.4083 - val_accuracy: 0.9023\n",
      "Epoch 22/30\n",
      "263/263 [==============================] - 5s 21ms/step - loss: 0.1878 - accuracy: 0.9384 - val_loss: 0.5254 - val_accuracy: 0.8890\n",
      "Epoch 23/30\n",
      "263/263 [==============================] - 5s 21ms/step - loss: 0.1884 - accuracy: 0.9384 - val_loss: 0.4085 - val_accuracy: 0.9064\n",
      "Epoch 24/30\n",
      "263/263 [==============================] - 5s 21ms/step - loss: 0.1811 - accuracy: 0.9402 - val_loss: 0.4427 - val_accuracy: 0.9081\n",
      "Epoch 25/30\n",
      "263/263 [==============================] - 6s 21ms/step - loss: 0.1700 - accuracy: 0.9440 - val_loss: 0.4242 - val_accuracy: 0.9114\n",
      "Epoch 26/30\n",
      "263/263 [==============================] - 6s 21ms/step - loss: 0.1671 - accuracy: 0.9436 - val_loss: 0.4303 - val_accuracy: 0.9038\n",
      "Epoch 27/30\n",
      "263/263 [==============================] - 6s 21ms/step - loss: 0.1613 - accuracy: 0.9459 - val_loss: 0.4627 - val_accuracy: 0.9101\n",
      "Epoch 28/30\n",
      "263/263 [==============================] - 6s 21ms/step - loss: 0.1614 - accuracy: 0.9451 - val_loss: 0.4729 - val_accuracy: 0.9058\n",
      "Epoch 29/30\n",
      "263/263 [==============================] - 6s 21ms/step - loss: 0.1538 - accuracy: 0.9484 - val_loss: 0.5070 - val_accuracy: 0.9033\n",
      "Epoch 30/30\n",
      "263/263 [==============================] - 5s 21ms/step - loss: 0.1556 - accuracy: 0.9496 - val_loss: 0.4786 - val_accuracy: 0.9069\n"
     ]
    }
   ],
   "source": [
    "# Fit the model\n",
    "history_model_2 = model_2.fit(X_train, y_train, validation_split=0.2, verbose = 1, batch_size=128, epochs = 30)"
   ]
  },
  {
   "cell_type": "markdown",
   "metadata": {
    "id": "0_f1EXmTe2TK"
   },
   "source": [
    "### **Plotting the validation and training accuracies**"
   ]
  },
  {
   "cell_type": "markdown",
   "metadata": {
    "id": "aC5UbsqXe2TK"
   },
   "source": [
    "#### **Question 6: Write your observations on the below plot (2 Marks)**"
   ]
  },
  {
   "cell_type": "code",
   "execution_count": 53,
   "metadata": {
    "colab": {
     "base_uri": "https://localhost:8080/",
     "height": 497
    },
    "executionInfo": {
     "elapsed": 15,
     "status": "ok",
     "timestamp": 1646508550276,
     "user": {
      "displayName": "Richard Sim",
      "photoUrl": "https://lh3.googleusercontent.com/a/default-user=s64",
      "userId": "04602034311639518581"
     },
     "user_tz": 300
    },
    "id": "01ig6BrF1KVy",
    "outputId": "92e57b58-71e0-4419-a0b0-354a91e0dd95"
   },
   "outputs": [
    {
     "data": {
      "image/png": "[encoded data removed]",
      "text/plain": [
       "<Figure size 576x576 with 1 Axes>"
      ]
     },
     "metadata": {
      "needs_background": "light"
     },
     "output_type": "display_data"
    }
   ],
   "source": [
    "# plotting the accuracies\n",
    "\n",
    "dict_hist = history_model_2.history\n",
    "list_ep = [i for i in range(1,31)]\n",
    "\n",
    "plt.figure(figsize = (8,8))\n",
    "plt.plot(list_ep,dict_hist['accuracy'],ls = '--', label = 'accuracy')\n",
    "plt.plot(list_ep,dict_hist['val_accuracy'],ls = '--', label = 'val_accuracy')\n",
    "plt.ylabel('Accuracy')\n",
    "plt.xlabel('Epochs')\n",
    "plt.legend()\n",
    "plt.show()"
   ]
  },
  {
   "cell_type": "markdown",
   "metadata": {
    "id": "VPW1LlD61RDn"
   },
   "source": [
    "**Observations: Accuracy and validation accuracy rates are very high until around epoch=2.5, and then it slows down. The accuracy rate follows a slow logarithmic shape and the validation accuracy remains more or less constant at just under 90% accuracy. The gap between the 2 accuracies is much lower compared to the previous model. **"
   ]
  },
  {
   "cell_type": "markdown",
   "metadata": {
    "id": "8kuXx9Bvu00f"
   },
   "source": [
    "## **Predictions on the test data**\n",
    "\n",
    "- Make predictions on the test set using the second model\n",
    "- Print the obtained results using the classification report and the confusion matrix\n",
    "- Final observations from the obtained results"
   ]
  },
  {
   "cell_type": "markdown",
   "metadata": {
    "id": "yfZwC9OUe2TL"
   },
   "source": [
    "#### **Question 7: Make predictions on the test data using the second model (1 Mark)**"
   ]
  },
  {
   "cell_type": "code",
   "execution_count": 54,
   "metadata": {
    "executionInfo": {
     "elapsed": 2862,
     "status": "ok",
     "timestamp": 1646508553127,
     "user": {
      "displayName": "Richard Sim",
      "photoUrl": "https://lh3.googleusercontent.com/a/default-user=s64",
      "userId": "04602034311639518581"
     },
     "user_tz": 300
    },
    "id": "xbWMEtTj5Ad0"
   },
   "outputs": [],
   "source": [
    "#Make prediction on the test data using model_2 \n",
    "test_pred = model_2.predict(X_test)\n",
    "\n",
    "test_pred = np.argmax(test_pred, axis=-1)"
   ]
  },
  {
   "cell_type": "markdown",
   "metadata": {
    "id": "i3li8Ib08yts"
   },
   "source": [
    "**Note:** Earlier, we noticed that each entry of the test data is a one-hot encoded vector but to print the classification report and confusion matrix, we must convert each entry of y_test to a single label."
   ]
  },
  {
   "cell_type": "code",
   "execution_count": 55,
   "metadata": {
    "executionInfo": {
     "elapsed": 4,
     "status": "ok",
     "timestamp": 1646508553128,
     "user": {
      "displayName": "Richard Sim",
      "photoUrl": "https://lh3.googleusercontent.com/a/default-user=s64",
      "userId": "04602034311639518581"
     },
     "user_tz": 300
    },
    "id": "NByu7uAQ8x9P"
   },
   "outputs": [],
   "source": [
    "#Converting each entry to single label from one-hot encoded vector\n",
    "y_test = np.argmax(y_test, axis=-1)"
   ]
  },
  {
   "cell_type": "markdown",
   "metadata": {
    "id": "yHDUEma0e2TM"
   },
   "source": [
    "#### **Question 8: Write your final observations on the performance of the model on the test data (2 Marks)**"
   ]
  },
  {
   "cell_type": "code",
   "execution_count": 56,
   "metadata": {
    "colab": {
     "base_uri": "https://localhost:8080/",
     "height": 629
    },
    "executionInfo": {
     "elapsed": 952,
     "status": "ok",
     "timestamp": 1646508554077,
     "user": {
      "displayName": "Richard Sim",
      "photoUrl": "https://lh3.googleusercontent.com/a/default-user=s64",
      "userId": "04602034311639518581"
     },
     "user_tz": 300
    },
    "id": "xRddeJ-3EHT1",
    "outputId": "b387da74-537d-4911-c526-a06c5bd6a7d1"
   },
   "outputs": [
    {
     "name": "stdout",
     "output_type": "stream",
     "text": [
      "              precision    recall  f1-score   support\n",
      "\n",
      "           0       0.92      0.94      0.93      1814\n",
      "           1       0.91      0.90      0.91      1828\n",
      "           2       0.95      0.91      0.93      1803\n",
      "           3       0.93      0.84      0.89      1719\n",
      "           4       0.92      0.94      0.93      1812\n",
      "           5       0.85      0.93      0.89      1768\n",
      "           6       0.84      0.92      0.88      1832\n",
      "           7       0.93      0.93      0.93      1808\n",
      "           8       0.92      0.86      0.89      1812\n",
      "           9       0.90      0.89      0.90      1804\n",
      "\n",
      "    accuracy                           0.91     18000\n",
      "   macro avg       0.91      0.91      0.91     18000\n",
      "weighted avg       0.91      0.91      0.91     18000\n",
      "\n"
     ]
    },
    {
     "data": {
      "image/png": "[encoded data removed]",
      "text/plain": [
       "<Figure size 576x360 with 2 Axes>"
      ]
     },
     "metadata": {
      "needs_background": "light"
     },
     "output_type": "display_data"
    }
   ],
   "source": [
    "#importing required functions\n",
    "from sklearn.metrics import classification_report\n",
    "from sklearn.metrics import confusion_matrix\n",
    "\n",
    "#Printing the classification report\n",
    "print(classification_report(y_test, test_pred))\n",
    "\n",
    "#Plotting the heatmap using confusion matrix\n",
    "cm = confusion_matrix(y_test, test_pred)\n",
    "plt.figure(figsize=(8,5))\n",
    "sns.heatmap(cm, annot=True,  fmt='.0f')\n",
    "plt.ylabel('Actual')\n",
    "plt.xlabel('Predicted')\n",
    "plt.show()"
   ]
  },
  {
   "cell_type": "markdown",
   "metadata": {
    "id": "DjErl4GA2u9s"
   },
   "source": [
    "\n",
    "\n",
    "\n",
    "\n",
    "#### **Observations: Overall accuracy is very high at 91%. Class 3 has the lowest f1-score at 89%. For all classes, the precisions and recalls are close to each other. Compared to the first part of the project using artificial neural network, this model outperforms it by over 10% in accuracy, making it more robust. **"
   ]
  },
  {
   "cell_type": "code",
   "execution_count": 56,
   "metadata": {
    "executionInfo": {
     "elapsed": 7,
     "status": "ok",
     "timestamp": 1646508554078,
     "user": {
      "displayName": "Richard Sim",
      "photoUrl": "https://lh3.googleusercontent.com/a/default-user=s64",
      "userId": "04602034311639518581"
     },
     "user_tz": 300
    },
    "id": "XSARD8Z0uoyR"
   },
   "outputs": [],
   "source": []
  }
 ],
 "metadata": {
  "accelerator": "GPU",
  "colab": {
   "collapsed_sections": [],
   "name": "CNN_Project_Learner_Notebook_SVHN.ipynb",
   "provenance": []
  },
  "kernelspec": {
   "display_name": "Python 3 (ipykernel)",
   "language": "python",
   "name": "python3"
  },
  "language_info": {
   "codemirror_mode": {
    "name": "ipython",
    "version": 3
   },
   "file_extension": ".py",
   "mimetype": "text/x-python",
   "name": "python",
   "nbconvert_exporter": "python",
   "pygments_lexer": "ipython3",
   "version": "3.9.7"
  }
 },
 "nbformat": 4,
 "nbformat_minor": 1
}
